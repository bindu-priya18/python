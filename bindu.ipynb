{
 "cells": [
  {
   "cell_type": "code",
   "execution_count": 3,
   "id": "3cfca18e-cab5-4902-9729-3bd293339763",
   "metadata": {},
   "outputs": [],
   "source": [
    "a='Wold'\n",
    "b=18\n",
    "c=10.8\n",
    "d='ExcelR Solutions'\n",
    "e=True"
   ]
  },
  {
   "cell_type": "code",
   "execution_count": 4,
   "id": "aa38b3cf-c8f9-4ff7-8437-8aa066580467",
   "metadata": {},
   "outputs": [
    {
     "data": {
      "text/plain": [
       "True"
      ]
     },
     "execution_count": 4,
     "metadata": {},
     "output_type": "execute_result"
    }
   ],
   "source": [
    "e"
   ]
  },
  {
   "cell_type": "code",
   "execution_count": 1,
   "id": "41edbf42-689b-400a-a3d6-f9e583f18572",
   "metadata": {},
   "outputs": [
    {
     "data": {
      "text/plain": [
       "18"
      ]
     },
     "execution_count": 1,
     "metadata": {},
     "output_type": "execute_result"
    }
   ],
   "source": [
    "True + 17"
   ]
  },
  {
   "cell_type": "code",
   "execution_count": 8,
   "id": "ff565c0a-9da0-4be8-99bc-9480fab1c39b",
   "metadata": {},
   "outputs": [
    {
     "data": {
      "text/plain": [
       "-18"
      ]
     },
     "execution_count": 8,
     "metadata": {},
     "output_type": "execute_result"
    }
   ],
   "source": [
    "False - 18"
   ]
  },
  {
   "cell_type": "code",
   "execution_count": 9,
   "id": "5b48bf4e-070d-4f6a-9379-041e91a070f4",
   "metadata": {},
   "outputs": [
    {
     "data": {
      "text/plain": [
       "str"
      ]
     },
     "execution_count": 9,
     "metadata": {},
     "output_type": "execute_result"
    }
   ],
   "source": [
    "type(a)"
   ]
  },
  {
   "cell_type": "code",
   "execution_count": 10,
   "id": "df9f91a7-34e8-4a7f-87f9-6dd0ea4631f8",
   "metadata": {},
   "outputs": [
    {
     "data": {
      "text/plain": [
       "int"
      ]
     },
     "execution_count": 10,
     "metadata": {},
     "output_type": "execute_result"
    }
   ],
   "source": [
    "type(b)"
   ]
  },
  {
   "cell_type": "code",
   "execution_count": 13,
   "id": "3b75e28a-e239-4cab-9a19-82f10887104f",
   "metadata": {},
   "outputs": [
    {
     "data": {
      "text/plain": [
       "10.8"
      ]
     },
     "execution_count": 13,
     "metadata": {},
     "output_type": "execute_result"
    }
   ],
   "source": [
    "c"
   ]
  },
  {
   "cell_type": "code",
   "execution_count": 3,
   "id": "c8eaf6d4-dc2d-42d0-bb29-b311a2317b81",
   "metadata": {},
   "outputs": [],
   "source": [
    "p"
   ]
  },
  {
   "cell_type": "code",
   "execution_count": 4,
   "id": "0cc09132-459d-4b1c-9306-f0e5396a32d6",
   "metadata": {},
   "outputs": [
    {
     "data": {
      "text/plain": [
       "str"
      ]
     },
     "execution_count": 4,
     "metadata": {},
     "output_type": "execute_result"
    }
   ],
   "source": [
    "type(a)"
   ]
  },
  {
   "cell_type": "code",
   "execution_count": 7,
   "id": "4c83d5ec-ff34-4f19-b9fa-938aa4abd18b",
   "metadata": {},
   "outputs": [
    {
     "data": {
      "text/plain": [
       "18"
      ]
     },
     "execution_count": 7,
     "metadata": {},
     "output_type": "execute_result"
    }
   ],
   "source": [
    "18\n"
   ]
  },
  {
   "cell_type": "markdown",
   "id": "e0975e98-75f7-4802-a77f-bab060da5617",
   "metadata": {},
   "source": [
    "### addition +\n",
    "### substraction -\n",
    "### multiplication *\n",
    "### division  /\n",
    "### remainder %\n",
    "### power **\n",
    "### floor division //"
   ]
  },
  {
   "cell_type": "code",
   "execution_count": 10,
   "id": "6862b11e-9825-4c74-a476-4b0ecdb4c6a1",
   "metadata": {},
   "outputs": [],
   "source": [
    "a=18\n",
    "b=10"
   ]
  },
  {
   "cell_type": "code",
   "execution_count": 14,
   "id": "dc9f44cc-efd8-48e0-96c4-118aaee6922c",
   "metadata": {},
   "outputs": [
    {
     "name": "stdout",
     "output_type": "stream",
     "text": [
      "18\n",
      "10\n"
     ]
    }
   ],
   "source": [
    "print(a)\n",
    "print(b)"
   ]
  },
  {
   "cell_type": "code",
   "execution_count": 28,
   "id": "bd89f9db-303b-4fce-9345-28b927f65332",
   "metadata": {},
   "outputs": [
    {
     "data": {
      "text/plain": [
       "1.8"
      ]
     },
     "execution_count": 28,
     "metadata": {},
     "output_type": "execute_result"
    }
   ],
   "source": [
    "c=a/b\n",
    "c"
   ]
  },
  {
   "cell_type": "code",
   "execution_count": 30,
   "id": "9ac03df6-3f26-469a-b089-5e0bab7b410f",
   "metadata": {},
   "outputs": [
    {
     "data": {
      "text/plain": [
       "3570467226624"
      ]
     },
     "execution_count": 30,
     "metadata": {},
     "output_type": "execute_result"
    }
   ],
   "source": [
    "c=a**b\n",
    "c"
   ]
  },
  {
   "cell_type": "code",
   "execution_count": 24,
   "id": "291ccb0d-6160-40f8-bf1c-46610d96872e",
   "metadata": {},
   "outputs": [
    {
     "data": {
      "text/plain": [
       "8"
      ]
     },
     "execution_count": 24,
     "metadata": {},
     "output_type": "execute_result"
    }
   ],
   "source": [
    "d=a-b\n",
    "d"
   ]
  },
  {
   "cell_type": "code",
   "execution_count": 50,
   "id": "97645a8d-f4dd-4d71-9fef-36efb1cc396e",
   "metadata": {},
   "outputs": [
    {
     "data": {
      "text/plain": [
       "int"
      ]
     },
     "execution_count": 50,
     "metadata": {},
     "output_type": "execute_result"
    }
   ],
   "source": [
    "type(d)"
   ]
  },
  {
   "cell_type": "code",
   "execution_count": 52,
   "id": "e8f6983f-b0fe-4c57-bcfe-942c57505bc7",
   "metadata": {},
   "outputs": [
    {
     "data": {
      "text/plain": [
       "1"
      ]
     },
     "execution_count": 52,
     "metadata": {},
     "output_type": "execute_result"
    }
   ],
   "source": [
    "a//b"
   ]
  },
  {
   "cell_type": "code",
   "execution_count": 54,
   "id": "eb07cd6d-0883-4430-aa67-acc9d2b751d5",
   "metadata": {},
   "outputs": [
    {
     "data": {
      "text/plain": [
       "90063135426453233952"
      ]
     },
     "execution_count": 54,
     "metadata": {},
     "output_type": "execute_result"
    }
   ],
   "source": [
    "a*b"
   ]
  },
  {
   "cell_type": "code",
   "execution_count": 56,
   "id": "eb7d9898-8ae3-43cd-baaa-8d1ff014f8aa",
   "metadata": {},
   "outputs": [],
   "source": [
    "a=9885799747\n",
    "b=9110354016"
   ]
  },
  {
   "cell_type": "code",
   "execution_count": 58,
   "id": "2b91ee02-35b8-497f-b6b8-9fcd4b581477",
   "metadata": {},
   "outputs": [
    {
     "data": {
      "text/plain": [
       "90063135426453233952"
      ]
     },
     "execution_count": 58,
     "metadata": {},
     "output_type": "execute_result"
    }
   ],
   "source": [
    "a*b"
   ]
  },
  {
   "cell_type": "code",
   "execution_count": 60,
   "id": "b7e66f2a-d9b0-4fbd-a89c-633156085885",
   "metadata": {},
   "outputs": [
    {
     "data": {
      "text/plain": [
       "True"
      ]
     },
     "execution_count": 60,
     "metadata": {},
     "output_type": "execute_result"
    }
   ],
   "source": [
    "a>b"
   ]
  },
  {
   "cell_type": "code",
   "execution_count": 62,
   "id": "a2d7a759-4e0b-49c2-9ce6-8be2ee2f1ec1",
   "metadata": {},
   "outputs": [
    {
     "data": {
      "text/plain": [
       "False"
      ]
     },
     "execution_count": 62,
     "metadata": {},
     "output_type": "execute_result"
    }
   ],
   "source": [
    "a<b"
   ]
  },
  {
   "cell_type": "code",
   "execution_count": 64,
   "id": "5fbeeaef-86f3-4aeb-9e13-24c7600678a4",
   "metadata": {},
   "outputs": [],
   "source": [
    "s='data'"
   ]
  },
  {
   "cell_type": "code",
   "execution_count": 66,
   "id": "379c40ca-4549-4331-b94b-62225c42470c",
   "metadata": {},
   "outputs": [
    {
     "data": {
      "text/plain": [
       "True"
      ]
     },
     "execution_count": 66,
     "metadata": {},
     "output_type": "execute_result"
    }
   ],
   "source": [
    "s>m"
   ]
  },
  {
   "cell_type": "code",
   "execution_count": 74,
   "id": "6f801a94-4d2d-49bf-9525-6b1b4bfede03",
   "metadata": {},
   "outputs": [
    {
     "data": {
      "text/plain": [
       "True"
      ]
     },
     "execution_count": 74,
     "metadata": {},
     "output_type": "execute_result"
    }
   ],
   "source": [
    "s==m"
   ]
  },
  {
   "cell_type": "code",
   "execution_count": 76,
   "id": "71166014-6b8a-4ab9-971c-7c50d9ac3c81",
   "metadata": {},
   "outputs": [],
   "source": []
  },
  {
   "cell_type": "code",
   "execution_count": 80,
   "id": "a84d3498-1e9a-407e-81bc-25e198286bdb",
   "metadata": {},
   "outputs": [
    {
     "data": {
      "text/plain": [
       "False"
      ]
     },
     "execution_count": 80,
     "metadata": {},
     "output_type": "execute_result"
    }
   ],
   "source": [
    "True and True --- True\n",
    "True and False --- False\n",
    "False and True --- False\n",
    "False and False --- False"
   ]
  },
  {
   "cell_type": "code",
   "execution_count": 82,
   "id": "9e737de1-f1bf-49b5-a043-30351d334d2b",
   "metadata": {},
   "outputs": [
    {
     "data": {
      "text/plain": [
       "0"
      ]
     },
     "execution_count": 82,
     "metadata": {},
     "output_type": "execute_result"
    }
   ],
   "source": [
    "True or True --- True\n",
    "True or False --- False\n",
    "False or True --- False\n",
    "False or False --- False"
   ]
  },
  {
   "cell_type": "code",
   "execution_count": 1,
   "id": "65306019-ceb8-415c-b077-38d43c62eba0",
   "metadata": {},
   "outputs": [
    {
     "data": {
      "text/plain": [
       "False"
      ]
     },
     "execution_count": 1,
     "metadata": {},
     "output_type": "execute_result"
    }
   ],
   "source": [
    "True and False"
   ]
  },
  {
   "cell_type": "code",
   "execution_count": 9,
   "id": "84cfed76-1530-4258-b8f4-55b06c07d327",
   "metadata": {},
   "outputs": [
    {
     "name": "stdout",
     "output_type": "stream",
     "text": [
      "hello,world\n"
     ]
    }
   ],
   "source": [
    "print(\"hello,world\");"
   ]
  },
  {
   "cell_type": "code",
   "execution_count": 41,
   "id": "c5c7ce8c-c41f-4a78-8127-6a2fc56f0ac9",
   "metadata": {},
   "outputs": [],
   "source": [
    "import  pandas as pd\n",
    "import numpy as np\n",
    "import matplotlib.pyplot as plt"
   ]
  },
  {
   "cell_type": "code",
   "execution_count": 7,
   "id": "c343f22d-b8f4-4916-811f-5d55812ea1d0",
   "metadata": {},
   "outputs": [
    {
     "data": {
      "text/plain": [
       "'Hyderbad'"
      ]
     },
     "execution_count": 7,
     "metadata": {},
     "output_type": "execute_result"
    }
   ],
   "source": [
    "c[1]"
   ]
  },
  {
   "cell_type": "code",
   "execution_count": 3,
   "id": "e0f7769b-1850-44ea-8a3e-4216587e7c55",
   "metadata": {},
   "outputs": [
    {
     "data": {
      "text/plain": [
       "[203, 'Hyderbad', 18, True, False, 45, 10, 34.9]"
      ]
     },
     "execution_count": 3,
     "metadata": {},
     "output_type": "execute_result"
    }
   ],
   "source": [
    "c=[203,'Hyderbad',18,True,False,45,10,34.9]\n",
    "c"
   ]
  },
  {
   "cell_type": "code",
   "execution_count": 34,
   "id": "895ac4fa-7803-445d-be6e-27f45da6c779",
   "metadata": {},
   "outputs": [
    {
     "data": {
      "text/plain": [
       "[18]"
      ]
     },
     "execution_count": 34,
     "metadata": {},
     "output_type": "execute_result"
    }
   ],
   "source": [
    "c[2:7:8]"
   ]
  },
  {
   "cell_type": "code",
   "execution_count": 47,
   "id": "baebaff0-5f04-4bd9-b4a3-3bab9bbbf135",
   "metadata": {},
   "outputs": [
    {
     "data": {
      "text/plain": [
       "10"
      ]
     },
     "execution_count": 47,
     "metadata": {},
     "output_type": "execute_result"
    }
   ],
   "source": [
    "c[6]"
   ]
  },
  {
   "cell_type": "code",
   "execution_count": 51,
   "id": "479b6c28-e470-4191-aece-62a59cb00a6d",
   "metadata": {},
   "outputs": [
    {
     "data": {
      "text/plain": [
       "10"
      ]
     },
     "execution_count": 51,
     "metadata": {},
     "output_type": "execute_result"
    }
   ],
   "source": [
    "c[-2]"
   ]
  },
  {
   "cell_type": "code",
   "execution_count": 53,
   "id": "0140459f-7d89-487e-8a9a-bc9c53feffe2",
   "metadata": {},
   "outputs": [],
   "source": [
    "# Listname [start : end :step]"
   ]
  },
  {
   "cell_type": "code",
   "execution_count": 57,
   "id": "ec7ef865-531d-4bfb-9310-9d6bb09c9916",
   "metadata": {},
   "outputs": [
    {
     "data": {
      "text/plain": [
       "[10]"
      ]
     },
     "execution_count": 57,
     "metadata": {},
     "output_type": "execute_result"
    }
   ],
   "source": [
    "c[6:7:8]"
   ]
  },
  {
   "cell_type": "code",
   "execution_count": 59,
   "id": "78628be7-2f30-4a8f-ab85-91e4104463e2",
   "metadata": {},
   "outputs": [
    {
     "data": {
      "text/plain": [
       "[True]"
      ]
     },
     "execution_count": 59,
     "metadata": {},
     "output_type": "execute_result"
    }
   ],
   "source": [
    "c[3:4]"
   ]
  },
  {
   "cell_type": "code",
   "execution_count": 61,
   "id": "dc92a6af-f687-4a92-a508-7ed34e91106b",
   "metadata": {},
   "outputs": [
    {
     "data": {
      "text/plain": [
       "203"
      ]
     },
     "execution_count": 61,
     "metadata": {},
     "output_type": "execute_result"
    }
   ],
   "source": [
    "c[False]"
   ]
  },
  {
   "cell_type": "code",
   "execution_count": 79,
   "id": "04fff3e9-9ca6-4d63-ada9-2f030579723b",
   "metadata": {},
   "outputs": [
    {
     "data": {
      "text/plain": [
       "'Hyderbad'"
      ]
     },
     "execution_count": 79,
     "metadata": {},
     "output_type": "execute_result"
    }
   ],
   "source": [
    "c[True]"
   ]
  },
  {
   "cell_type": "code",
   "execution_count": 86,
   "id": "f9355d24-1af2-4c54-8874-8368c1dde628",
   "metadata": {},
   "outputs": [],
   "source": [
    "append\n",
    "insert\n",
    "remove\n",
    "pop"
   ]
  },
  {
   "cell_type": "code",
   "execution_count": 92,
   "id": "d29c8583-903f-4655-b0f5-ba0b292f76f9",
   "metadata": {},
   "outputs": [
    {
     "ename": "TypeError",
     "evalue": "list indices must be integers or slices, not tuple",
     "output_type": "error",
     "traceback": [
      "\u001b[1;31m---------------------------------------------------------------------------\u001b[0m",
      "\u001b[1;31mTypeError\u001b[0m                                 Traceback (most recent call last)",
      "Cell \u001b[1;32mIn[92], line 1\u001b[0m\n\u001b[1;32m----> 1\u001b[0m \u001b[43mc\u001b[49m\u001b[43m[\u001b[49m\u001b[38;5;241;43m203\u001b[39;49m\u001b[43m,\u001b[49m\u001b[38;5;124;43m'\u001b[39;49m\u001b[38;5;124;43mtirupati\u001b[39;49m\u001b[38;5;124;43m'\u001b[39;49m\u001b[43m,\u001b[49m\u001b[38;5;241;43m18\u001b[39;49m\u001b[43m,\u001b[49m\u001b[38;5;28;43;01mTrue\u001b[39;49;00m\u001b[43m,\u001b[49m\u001b[38;5;28;43;01mFalse\u001b[39;49;00m\u001b[43m,\u001b[49m\u001b[38;5;241;43m55\u001b[39;49m\u001b[43m,\u001b[49m\u001b[38;5;241;43m175\u001b[39;49m\u001b[43m,\u001b[49m\u001b[38;5;241;43m34.6\u001b[39;49m\u001b[43m,\u001b[49m\u001b[38;5;124;43m'\u001b[39;49m\u001b[38;5;124;43mIndia\u001b[39;49m\u001b[38;5;124;43m'\u001b[39;49m\u001b[43m]\u001b[49m\n",
      "\u001b[1;31mTypeError\u001b[0m: list indices must be integers or slices, not tuple"
     ]
    }
   ],
   "source": [
    "c[203,'tirupati',18,True,False,55,175,34.6,'India']"
   ]
  },
  {
   "cell_type": "code",
   "execution_count": 94,
   "id": "1c32e29a-ffd0-4997-872a-6b6a3cb349f4",
   "metadata": {},
   "outputs": [],
   "source": [
    "c.append(18)"
   ]
  },
  {
   "cell_type": "code",
   "execution_count": null,
   "id": "2433bc08-2df5-4df9-a38c-9d1f29fa58df",
   "metadata": {},
   "outputs": [],
   "source": []
  },
  {
   "cell_type": "code",
   "execution_count": null,
   "id": "d89a0db9-5e0d-4990-9261-4793a50f437e",
   "metadata": {},
   "outputs": [],
   "source": []
  },
  {
   "cell_type": "code",
   "execution_count": null,
   "id": "6fb5bd0a-e2a1-49bf-8cb2-80cb55565c8c",
   "metadata": {},
   "outputs": [],
   "source": []
  },
  {
   "cell_type": "code",
   "execution_count": null,
   "id": "e1f47de7-682a-4264-b7fd-33a56a099a06",
   "metadata": {},
   "outputs": [],
   "source": []
  }
 ],
 "metadata": {
  "kernelspec": {
   "display_name": "Python 3 (ipykernel)",
   "language": "python",
   "name": "python3"
  },
  "language_info": {
   "codemirror_mode": {
    "name": "ipython",
    "version": 3
   },
   "file_extension": ".py",
   "mimetype": "text/x-python",
   "name": "python",
   "nbconvert_exporter": "python",
   "pygments_lexer": "ipython3",
   "version": "3.12.7"
  }
 },
 "nbformat": 4,
 "nbformat_minor": 5
}
